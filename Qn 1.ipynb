{
 "cells": [
  {
   "cell_type": "markdown",
   "id": "cdae1005",
   "metadata": {},
   "source": [
    "Qn.1 Probabilities based on Bayes’ Theorem\n",
    "     (1) P(sunny|a cone of ice cream) = ?\n",
    "     (2) P(rainy|a cup of hot coffee) = ?\n",
    "\n",
    "Ans:\n",
    "\n",
    "    We know that by Baye's theorem:\n",
    "    P(A|B) = P(B|A) * P(A) / P(B)\n",
    "    \n",
    "    1. P(sunny|a cone of ice cream) = (P(a cone of ice cream|sunny) * P(sunny)) / P(a cone of ice cream)\n",
    "    \n",
    "    since Probability of \"a cone of ice cream\" is negligible by considering the bigger probability,\n",
    "    then equation  become\n",
    "    \n",
    "    P(sunny|a cone of ice cream) = P(a cone of ice cream|sunny) * P(sunny)    -->  eqn 1\n",
    "    \n",
    "    since occurrence of each word is an independent event\n",
    "    P(a cone of ice cream) = P(a) * P(cone) *P(of) * P(ice) * P(cream)\n",
    "    \n",
    "    Now consider P(a cone of ice cream|sunny),\n",
    "    \n",
    "    P(a cone of ice cream|sunny) =  P(a | sunny) * P(cone | sunny) *P(of | sunny) * P(ice | sunny) * P(cream | sunny) --> eqn 2\n",
    "    \n",
    "    put eqn 2 in eqn 1\n",
    "    \n",
    "    P(sunny|a cone of ice cream) =  P(a | sunny) * P(cone | sunny) *P(of | sunny) * P(ice | sunny) * P(cream | sunny) *  p(sunny)\n",
    "    \n",
    "    \n",
    "    \n",
    "    2. P(rainy|a cup of hot coffee) = (P(a cup of hot coffee|rainy) * P(rainy)) / P(a cup of hot coffee)\n",
    "    \n",
    "    since Probability of \"a cup of hot coffee\" is negligible by considering the bigger probability,\n",
    "    then equation  become\n",
    "    \n",
    "    P(rainy|a cup of hot coffee) = P(a cup of hot coffee|rainy) * P(rainy)  -->  eqn 1\n",
    "    \n",
    "    since occurrence of each word is an independent event\n",
    "    P(a cup of hot coffee) = P(a) * P(cup) * P(of) * P(hot) * P(coffee)\n",
    "    \n",
    "    Now consider P(a cup of hot coffee|rainy),\n",
    "    \n",
    "    P(a cup of hot coffee |rainy) = P(a |rainy) * P(cup |rainy) * P(of |rainy) * P(hot |rainy) * P(coffee |rainy) --> eqn 2\n",
    "    \n",
    "    put eqn 2 in eqn 1\n",
    "    \n",
    "    P(rainy|a cup of hot coffee) = P(a |rainy) * P(cup |rainy) * P(of |rainy) * P(hot |rainy) * P(coffee |rainy) * P(rainy)\n",
    "    "
   ]
  }
 ],
 "metadata": {
  "kernelspec": {
   "display_name": "Python 3 (ipykernel)",
   "language": "python",
   "name": "python3"
  },
  "language_info": {
   "codemirror_mode": {
    "name": "ipython",
    "version": 3
   },
   "file_extension": ".py",
   "mimetype": "text/x-python",
   "name": "python",
   "nbconvert_exporter": "python",
   "pygments_lexer": "ipython3",
   "version": "3.9.12"
  }
 },
 "nbformat": 4,
 "nbformat_minor": 5
}
